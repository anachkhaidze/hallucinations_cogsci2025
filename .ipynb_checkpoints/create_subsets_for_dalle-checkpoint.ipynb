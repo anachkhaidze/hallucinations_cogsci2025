{
 "cells": [
  {
   "cell_type": "code",
   "execution_count": 2,
   "id": "fcbdba80-c434-4f5f-9007-491091994899",
   "metadata": {},
   "outputs": [],
   "source": [
    "import pandas as pd\n",
    "\n",
    "# Load the dataset\n",
    "df = pd.read_csv(\"hallucinations_df_for_r.csv\")\n",
    "\n",
    "# Filter rows where visual_vividness is 0\n",
    "df_vv_0 = df[df['visual_vividness'] == 0]\n",
    "\n",
    "# Shuffle the DataFrame to ensure randomness\n",
    "df_vv_0 = df_vv_0.sample(frac=1, random_state=42).reset_index(drop=True)\n",
    "\n",
    "# Initialize a list to store the combined descriptions\n",
    "combined_data = []\n",
    "\n",
    "# Iterate over the DataFrame in chunks of 100 rows\n",
    "for i in range(0, len(df_vv_0), 100):\n",
    "    # Select the current chunk of 100 rows\n",
    "    chunk = df_vv_0.iloc[i:i + 100]\n",
    "    \n",
    "    # Combine the 'hallucination_description' values into a single string\n",
    "    combined_description = ' '.join(chunk['hallucination_description'].dropna().astype(str))\n",
    "    \n",
    "    # Create a dictionary for the combined row\n",
    "    combined_row = {\n",
    "        'combined_ids': ', '.join(chunk['id'].dropna().astype(str).unique()),  # List of unique IDs in this chunk\n",
    "        'visual_vividness': 0,\n",
    "        'hallucination_description': combined_description\n",
    "    }\n",
    "    \n",
    "    # Append the combined row to the list\n",
    "    combined_data.append(combined_row)\n",
    "\n",
    "# Create a new DataFrame from the combined data\n",
    "grouped_descriptions_aphantasia = pd.DataFrame(combined_data)\n",
    "\n",
    "# Save the new DataFrame to a CSV file\n",
    "# grouped_descriptions_aphantasia.to_csv(\"grouped_descriptions_aphantasia.csv\", index=False)"
   ]
  },
  {
   "cell_type": "code",
   "execution_count": null,
   "id": "3582909a-e67d-47cf-b44c-24a0d6e9c3fc",
   "metadata": {},
   "outputs": [],
   "source": []
  }
 ],
 "metadata": {
  "kernelspec": {
   "display_name": "Python 3 (ipykernel)",
   "language": "python",
   "name": "python3"
  },
  "language_info": {
   "codemirror_mode": {
    "name": "ipython",
    "version": 3
   },
   "file_extension": ".py",
   "mimetype": "text/x-python",
   "name": "python",
   "nbconvert_exporter": "python",
   "pygments_lexer": "ipython3",
   "version": "3.11.8"
  }
 },
 "nbformat": 4,
 "nbformat_minor": 5
}
